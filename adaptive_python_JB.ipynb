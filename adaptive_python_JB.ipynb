{
 "cells": [
  {
   "cell_type": "markdown",
   "metadata": {},
   "source": [
    "# Adaptive Python от JetBrains Team"
   ]
  },
  {
   "cell_type": "markdown",
   "metadata": {},
   "source": [
    "### 2.13 The last number\n",
    "<b>The last number</b>\n",
    "\n",
    "Given a natural number, not exceeding 10000. Output its last digit."
   ]
  },
  {
   "cell_type": "code",
   "execution_count": 1,
   "metadata": {
    "collapsed": false
   },
   "outputs": [
    {
     "name": "stdout",
     "output_type": "stream",
     "text": [
      "3\n"
     ]
    }
   ],
   "source": [
    "#num = int(input())\n",
    "num = 753\n",
    "print(num%10)"
   ]
  },
  {
   "cell_type": "markdown",
   "metadata": {},
   "source": [
    "### 2.302 Spanish-Latin dictionary\n",
    "\n",
    "Once, while looking through the old books in the attic, schoolboy Mike found the Spanish-Latin dictionary. By that time, his knowledge of Spanish was perfect and his dream was to learn Latin. Therefore, his discovery was very useful.\n",
    "\n",
    "Unfortunately, this one dictionary is not enough to learn the language: besides the Spanish-Latin dictionary, he needs a Latin-Spanish one. In the absence of better, he decided to make the second dictionary from the first one.\n",
    "\n",
    "As it is well known, any dictionary consists of translated words, each of which has a few words-translations. For each of the Latin words, which are present somewhere in the dictionary, Mike offers to find all of their translations (i.e. all the Spanish words, for which our Latin word was specified in the list of its translations), and consider only such words the translations of the particular Latin word.\n",
    "\n",
    "Help Mike to complete the task on creation of the Latin-Spanish dictionary from the Spanish-Latin one.\n",
    "\n",
    "<b>Input data</b>\n",
    "\n",
    "The first line contains the only integer number N that is the number of Spanish words in the dictionary. Then N descriptions follow: each of the descriptions is located in a separate line, where first goes a Spanish word, next goes the space separated dash (symbol number 45), and then go the translations of this Spanish word into Latin, separated by spaces and commas. Translations are sorted in the lexicographic order. The order of the Spanish words in the dictionary is also lexicographic.\n",
    "\n",
    "All words consist of only the lowercase Latin letters; length of each word does not exceed 15 characters. The total number of words at the input is not greater than 100000.\n",
    "\n",
    "<b>Output data</b>\n",
    "\n",
    "Output the Latin-Spanish dictionary, corresponding to the given one, strictly observing the format of the input data. In particular, the first should be the translation of a lexicographically minimal Latin word, further - the second in this order, etc. Spanish words inside the translation must also be sorted in a lexicographic order."
   ]
  },
  {
   "cell_type": "code",
   "execution_count": 18,
   "metadata": {
    "collapsed": false
   },
   "outputs": [
    {
     "name": "stdout",
     "output_type": "stream",
     "text": [
      "7\n",
      "baca - fruit\n",
      "bacca - fruit\n",
      "malum - apple, punishment\n",
      "multa - punishment\n",
      "pomum - apple\n",
      "popula - apple\n",
      "popum - fruit\n"
     ]
    }
   ],
   "source": [
    "#num = int(input())\n",
    "#for line in input():\n",
    "num = 3\n",
    "text = '''apple - malum, pomum, popula\n",
    "fruit - baca, bacca, popum\n",
    "punishment - malum, multa'''\n",
    "latin_spanish = {}\n",
    "#for line in sys.stdin:\n",
    "for line in text:\n",
    "    try:\n",
    "        word, translations = line.replace('\\n','').split(' - ')\n",
    "    except Exception as error:\n",
    "        raise Exception(num, line)\n",
    "    trans_words = translations.split(', ')\n",
    "    \n",
    "    for t_word in trans_words:\n",
    "        if latin_spanish.get(t_word):\n",
    "            latin_spanish[t_word].append(word)\n",
    "        else:\n",
    "            latin_spanish[t_word] = [word]\n",
    "\n",
    "print(len(latin_spanish.keys()))\n",
    "for key, words in sorted(latin_spanish.items()):    \n",
    "    print('{} - {}'.format(key, ', '.join(w for w in sorted(words))))"
   ]
  },
  {
   "cell_type": "markdown",
   "metadata": {},
   "source": [
    "### 2.16 Chocolate\n",
    "\n",
    "A chocolate bar has a shape of rectangle, divided into NxM segments. You can break down this chocolate bar into two parts by a straight line. Find whether you can break off exactly K segments from the chocolate.\n",
    "\n",
    "<b>Input data format</b>\n",
    "\n",
    "The program gets an input of three integers: N, M, K\n",
    "\n",
    "<b>Output data format</b>\n",
    "\n",
    "The program must output one of the two words: YES or NO."
   ]
  },
  {
   "cell_type": "code",
   "execution_count": 27,
   "metadata": {
    "collapsed": false
   },
   "outputs": [
    {
     "name": "stdout",
     "output_type": "stream",
     "text": [
      "{3, 6, 9, 10, 12, 15, 18, 20, 21, 24, 27, 30}\n",
      "NO\n"
     ]
    }
   ],
   "source": [
    "#n,m,k = int(input()),int(input()),int(input())\n",
    "n,m,k = 3,10,7\n",
    "\n",
    "def all_segments_list(n,m):\n",
    "    segments_list = set()\n",
    "    for i in range(1,n+1):\n",
    "        segments_list.add(m*i)\n",
    "    for i in range(1,m+1):\n",
    "        segments_list.add(n*i)\n",
    "    return segments_list\n",
    "\n",
    "if k in all_segments_list(n,m):\n",
    "    print('YES')\n",
    "else:\n",
    "    print('NO')\n",
    "\n"
   ]
  },
  {
   "cell_type": "markdown",
   "metadata": {},
   "source": [
    "### 2.328 ASCII table\n",
    "\n",
    "Implement the program that returns the letter, which stands after the \"\\\" (backslash) symbol in the ASCII table by a given distance N. "
   ]
  },
  {
   "cell_type": "code",
   "execution_count": 33,
   "metadata": {
    "collapsed": false
   },
   "outputs": [
    {
     "name": "stdout",
     "output_type": "stream",
     "text": [
      "32\n",
      "|\n"
     ]
    }
   ],
   "source": [
    "num = int(input())\n",
    "print(chr(ord('\\\\')+num))"
   ]
  },
  {
   "cell_type": "code",
   "execution_count": null,
   "metadata": {
    "collapsed": true
   },
   "outputs": [],
   "source": []
  }
 ],
 "metadata": {
  "kernelspec": {
   "display_name": "Python 3",
   "language": "python",
   "name": "python3"
  },
  "language_info": {
   "codemirror_mode": {
    "name": "ipython",
    "version": 3
   },
   "file_extension": ".py",
   "mimetype": "text/x-python",
   "name": "python",
   "nbconvert_exporter": "python",
   "pygments_lexer": "ipython3",
   "version": "3.5.2"
  }
 },
 "nbformat": 4,
 "nbformat_minor": 0
}
