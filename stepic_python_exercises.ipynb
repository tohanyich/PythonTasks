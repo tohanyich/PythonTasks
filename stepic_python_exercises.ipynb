{
 "cells": [
  {
   "cell_type": "code",
   "execution_count": 1,
   "metadata": {
    "collapsed": false
   },
   "outputs": [],
   "source": [
    "#import sys\n",
    "#for line in sys.stdin:"
   ]
  },
  {
   "cell_type": "code",
   "execution_count": 3,
   "metadata": {
    "collapsed": false
   },
   "outputs": [
    {
     "data": {
      "text/plain": [
       "False"
      ]
     },
     "execution_count": 3,
     "metadata": {},
     "output_type": "execute_result"
    }
   ],
   "source": [
    "#ex.1\n",
    "line = 5\n",
    "i = line\n",
    "\n",
    "i == -10 or (i > -5 and i <= 3) or (i > 8 and i < 12) or i >=16"
   ]
  },
  {
   "cell_type": "code",
   "execution_count": 5,
   "metadata": {
    "collapsed": false
   },
   "outputs": [
    {
     "name": "stdout",
     "output_type": "stream",
     "text": [
      "Processing \"Turn left\" command...\n",
      "Processing \"Move forward\" command...\n",
      "Processing \"Turn left\" command...\n",
      "Processing \"Move forward\" command...\n",
      "Processing \"Turn left\" command...\n",
      "Processing \"Move forward\" command...\n",
      "Processing \"Turn left\" command...\n",
      "Processing \"Move forward\" command...\n",
      "Good bye!\n"
     ]
    }
   ],
   "source": [
    "#ex.2\n",
    "text = '''Turn left\n",
    "Move forward\n",
    "Turn left\n",
    "Move forward\n",
    "Turn left\n",
    "Move forward\n",
    "Turn left\n",
    "Move forward\n",
    "End'''\n",
    "\n",
    "for cmd in text.split('\\n'):\n",
    "    if cmd == 'End':\n",
    "        print('Good bye!')\n",
    "        break\n",
    "    else:\n",
    "        print('Processing \"{}\" command...'.format(cmd))"
   ]
  },
  {
   "cell_type": "code",
   "execution_count": 28,
   "metadata": {
    "collapsed": false
   },
   "outputs": [
    {
     "name": "stdout",
     "output_type": "stream",
     "text": [
      "0 4 8\n"
     ]
    }
   ],
   "source": [
    "#ex.3\n",
    "import re\n",
    "line1 = 'abacabadaba'\n",
    "line2 = 'aba'\n",
    "\n",
    "# (?=aa) - для поиска всех совпадений\n",
    "#line1, line2 = input(), input()\n",
    "answers = [m.start() for m in re.finditer('(?=' + line2 + ')', line1)]\n",
    "print(-1 if len(answers) == 0 else ' '.join([str(num) for num in answers]))"
   ]
  },
  {
   "cell_type": "code",
   "execution_count": 5,
   "metadata": {
    "collapsed": false
   },
   "outputs": [
    {
     "name": "stdout",
     "output_type": "stream",
     "text": [
      "string_with_multi_spaces\n"
     ]
    }
   ],
   "source": [
    "#ex 1.6\n",
    "\n",
    "#line = input()\n",
    "line = 'string     with        multi spaces'\n",
    "print('_'.join([word for word in line.split()]))"
   ]
  },
  {
   "cell_type": "code",
   "execution_count": 7,
   "metadata": {
    "collapsed": false
   },
   "outputs": [
    {
     "name": "stdout",
     "output_type": "stream",
     "text": [
      "MyFirstClass\n"
     ]
    }
   ],
   "source": [
    "#ex 1.7\n",
    "\n",
    "#line = input()\n",
    "line = 'my_first_class'\n",
    "print(''.join([word.capitalize() for word in line.split('_')]))"
   ]
  },
  {
   "cell_type": "markdown",
   "metadata": {},
   "source": [
    "### 3.3 Modify list\n",
    "\n",
    "Напишите функцию modify_list(l), которая принимает на вход список целых чисел, удаляет из него все нечётные значения, а чётные нацело делит на два. Функция не должна ничего возвращать, требуется только изменение переданного списка.\n",
    "Также функция не должна осуществлять ввод/вывод информации.\n",
    "\n",
    "Попробуйте решить эту задачу следующими способами:\n",
    "- Используя метод pop (необходимо правильным образом построить итерацию по списку).\n",
    "- Используя механизм slice и генераторы списков"
   ]
  },
  {
   "cell_type": "code",
   "execution_count": 38,
   "metadata": {
    "collapsed": false
   },
   "outputs": [],
   "source": [
    "# ex 3.3\n",
    "def modify_list(l):\n",
    "    #i = 0\n",
    "    #for j in range(len(l)):\n",
    "    #    if l[i]%2:\n",
    "    #        l.pop(i)\n",
    "    #    else:\n",
    "    #        l[i] = int(l[i]/2)\n",
    "    #        i += 1\n",
    "    #the same \n",
    "    l[:] = [int(x/2) for x in l if x%2==0]"
   ]
  },
  {
   "cell_type": "markdown",
   "metadata": {},
   "source": [
    "### 3.4 Word counter\n",
    "\n",
    "Когда Антон прочитал «Войну и мир», ему стало интересно, сколько слов и в каком количестве используется в этой книге.\n",
    "\n",
    "Помогите Антону написать упрощённую версию такой программы, которая сможет подсчитать слова, разделённые пробелом и вывести получившуюся статистику.\n",
    "\n",
    "Программа должна выводить для каждого уникального слова число его повторений (без учёта регистра). \n",
    "\n",
    "<b>Формат ввода:</b>\n",
    "Одна строка, содержащая последовательности символов через пробел\n",
    "\n",
    "<b>Формат вывода:</b>\n",
    "Набор строк, каждая из которых содержит слово и, через пробел, число −− количество раз, которое слово использовалось во входной строке. Регистр слов не важен, слова в выводе не должны повторяться, порядок слов произвольный. \n",
    "\n",
    "Попробуйте решить эту задачу следующими способами:\n",
    "\n",
    "- Используя структуру dict (tutorial), ключом которой будет слово, а значением -- количество раз, которое слово встречается.\n",
    "- Используя класс collections.Counter."
   ]
  },
  {
   "cell_type": "code",
   "execution_count": 5,
   "metadata": {
    "collapsed": false
   },
   "outputs": [
    {
     "name": "stdout",
     "output_type": "stream",
     "text": [
      "a 2\n",
      "bcd 1\n",
      "ac 1\n",
      "abc 2\n",
      "aa 2\n"
     ]
    }
   ],
   "source": [
    "# ex 3.4\n",
    "from collections import Counter\n",
    "\n",
    "#line = input()\n",
    "line = 'a aa abC aa ac abc bcd a'\n",
    "cnt = Counter()\n",
    "for word in line.lower().split():\n",
    "    cnt[word] += 1\n",
    "for k,v in cnt.items():\n",
    "    print('{} {}'.format(k,v))"
   ]
  },
  {
   "cell_type": "markdown",
   "metadata": {},
   "source": [
    "### 3.5 Cache function\n",
    "\n",
    "Имеется реализованная функция f(x), принимающая на вход целое число x, которая вычисляет некоторое целочисленое значение и возвращает его в качестве результата работы.\n",
    "\n",
    "Функция вычисляется достаточно долго, ничего не выводит на экран, не пишет в файлы и зависит только от переданного аргумента x.\n",
    "\n",
    "Напишите программу, которая вычисляет значение этой функции для nn чисел. \n",
    "\n",
    "Для ускорения вычисления необходимо сохранять уже вычисленные значения функции при известных аргументах.\n",
    "\n",
    "Обратите внимание, что в этой задаче установлено достаточно сильное ограничение в две секунды по времени исполнения кода на тесте. \n",
    "\n",
    "Формат ввода:\n",
    "На первой строке находится число n −− количество значений, на которых нужно посчитать функцию. После этого следует nn строк, на каждой строке по одному целому числу.\n",
    "\n",
    "Формат вывода:\n",
    "nn строк, в каждой из которой результат вычисления функции на соответствующем аргументе.\n",
    "\n",
    "Ознакомьтесь со стандартным способов выполнять кеширование вызовов функции -- декоратором functools.lru_cache.\n",
    "\n",
    "Попробуйте выполнить это задание, задекорировав вручную функцию f."
   ]
  },
  {
   "cell_type": "code",
   "execution_count": 14,
   "metadata": {
    "collapsed": false
   },
   "outputs": [
    {
     "name": "stdout",
     "output_type": "stream",
     "text": [
      "!calc\n",
      "500\n",
      "500\n",
      "!calc\n",
      "1200\n",
      "!calc\n",
      "900\n",
      "!calc\n",
      "2000\n",
      "1200\n"
     ]
    }
   ],
   "source": [
    "#line = input()\n",
    "#import sys\n",
    "#for line in sys.stdin:\n",
    "line = '''5\n",
    "5\n",
    "12\n",
    "9\n",
    "20\n",
    "12'''\n",
    "\n",
    "def f(x):\n",
    "    print('!calc')\n",
    "    return x * 100\n",
    "    \n",
    "d = dict()\n",
    "for l in line.split('\\n'):\n",
    "    val = d.get(l)\n",
    "    if not val:\n",
    "        val = f(int(l))\n",
    "        d[l] = val\n",
    "    print(val"
   ]
  },
  {
   "cell_type": "code",
   "execution_count": null,
   "metadata": {
    "collapsed": true
   },
   "outputs": [],
   "source": [
    "from functools import lru_cache()\n",
    "\n",
    "@lru_cache()\n",
    "def f(x):\n",
    "    print('!calc')\n",
    "    return x * 100\n",
    "\n",
    "for l in line.split('\\n'):\n",
    "    val = f(int(l))\n",
    "    print(val)"
   ]
  },
  {
   "cell_type": "markdown",
   "metadata": {},
   "source": [
    "### 3.6 Number sequence\n",
    "\n",
    "Напишите программу, которая выводит nn первых элементов последовательности 1 2 2 3 3 3 4 4 4 4 5 5 5 5 5 ... (число повторяется столько раз, чему равно).\n",
    "\n",
    "Формат ввода:\n",
    "Строка, содержащая одно целое число nn, n>0n>0.\n",
    "\n",
    "Формат вывода:\n",
    "Строка, содержащая требуемую последовательность чисел, разделённых пробелом.\n",
    "\n",
    "Попробуйте решить эту задачу следующими способами:\n",
    "\n",
    "- Создать список, представляющий собой заданную последовательность, после чего вывести первые n элементов.\n",
    "- Печатать новые элементы сразу, не используя хранение элементов списка.\n",
    "- Напишите функцию-генератор, которая создаёт бесконечную последовательность, и выведите только первые n членов этой последовательности.\n",
    "- Напишите функцию, которая вычисляет i-й элемент последовательности по его номеру, не вычисляя предыдущие элементы последовательности. "
   ]
  },
  {
   "cell_type": "code",
   "execution_count": 42,
   "metadata": {
    "collapsed": false
   },
   "outputs": [
    {
     "name": "stdout",
     "output_type": "stream",
     "text": [
      "1 2 2 3 3 3 4\n"
     ]
    }
   ],
   "source": [
    "#num = int(input())\n",
    "num = 7 \n",
    "\n",
    "#el, l = [], 0\n",
    "#for n in range(1,num+1):\n",
    "#    if l >= num:\n",
    "#        break;    \n",
    "#    l += n\n",
    "#    el.append(list(str(n)*n))\n",
    "#print(' '.join([s for s in sum(el,[])[:num]]))\n",
    "\n",
    "print(' '.join([s for s in list(str(i) for i in range(1, num+1) for k in range(i))[:num]]))"
   ]
  },
  {
   "cell_type": "markdown",
   "metadata": {},
   "source": [
    "### 3.7 Multiple list index search\n",
    "Попробуйте решить эту задачу следующими способами:\n",
    "\n",
    "- Получить ответ, не сохраняя значения в коллекции.\n",
    "- Получить ответ, сохранив значения в списке, после чего осуществить поиск вхождений в списке с использованием метода index и обработкой исключения."
   ]
  },
  {
   "cell_type": "code",
   "execution_count": 63,
   "metadata": {
    "collapsed": false
   },
   "outputs": [
    {
     "name": "stdout",
     "output_type": "stream",
     "text": [
      "['5', '8', '2', '7', '8', '8', '2', '4']\n",
      "1 4 5\n"
     ]
    }
   ],
   "source": [
    "#line = input()\n",
    "#num = input()\n",
    "line = '5 8 2 7 8 8 2 4'\n",
    "num = '8'\n",
    "\n",
    "l = line.split()\n",
    "print(l)\n",
    "ans = [ind for ind, element in enumerate(l) if element == num]\n",
    "if ans:\n",
    "    print(' '.join([str(s) for s in ans]))\n",
    "else:\n",
    "    print('None')"
   ]
  },
  {
   "cell_type": "markdown",
   "metadata": {},
   "source": [
    "### 3.8 Spiral matrix\n",
    "\n",
    "Выведите таблицу размером n×n, заполненную целыми числами от 1 до n^2 по спирали, выходящей из левого верхнего угла и закрученной по часовой стрелке, как показано в примере.\n",
    "\n",
    "Формат ввода:\n",
    "Одна строка, содержащая одно целое число n, n>0.\n",
    "\n",
    "Формат вывода:\n",
    "Таблица из n строк, значения в строках разделены пробелом."
   ]
  },
  {
   "cell_type": "code",
   "execution_count": 126,
   "metadata": {
    "collapsed": false
   },
   "outputs": [
    {
     "name": "stdout",
     "output_type": "stream",
     "text": [
      "1 2 3 4 5\n",
      "16 17 18 19 6\n",
      "15 24 25 20 7\n",
      "14 23 22 21 8\n",
      "13 12 11 10 9\n"
     ]
    }
   ],
   "source": [
    "import numpy as np\n",
    "\n",
    "def init_fs(sp_matrix,ind, size):\n",
    "    first_el = sp_matrix.max()+1\n",
    "    sp_matrix[ind,ind:size] = [first_el+i for i in range(len(sp_matrix[ind,ind:size]))]\n",
    "    \n",
    "def init_lc(sp_matrix,ind, size):\n",
    "    first_el = sp_matrix.max()\n",
    "    sp_matrix[ind:size,size-1] = [first_el+i for i in range(len(sp_matrix[ind,ind:size]))]\n",
    "    \n",
    "def init_ls(sp_matrix,ind, size):\n",
    "    first_el = sp_matrix.max()\n",
    "    sp_matrix[size-1,ind:size] = sorted([first_el+i for i in range(len(sp_matrix[ind,ind:size]))],reverse = True)\n",
    "    \n",
    "def init_fc(sp_matrix,ind, size):\n",
    "    first_el = sp_matrix.max()\n",
    "    sp_matrix[ind+1:size,ind] = sorted([first_el+i for i in range(len(sp_matrix[ind,ind:size])-1)],reverse = True)\n",
    "\n",
    "#num = int(input())\n",
    "num = 5\n",
    "sp_matrix = np.zeros((num,num), dtype=np.int)\n",
    "ind, size = 0, num\n",
    "\n",
    "while ind < num/2.:\n",
    "    init_fs(sp_matrix,ind, size)\n",
    "    init_lc(sp_matrix,ind, size)\n",
    "    init_ls(sp_matrix,ind, size)\n",
    "    init_fc(sp_matrix,ind, size)\n",
    "    ind += 1\n",
    "    size -= 1\n",
    "\n",
    "for l in sp_matrix:\n",
    "    print(' '.join([str(s) for s in l]))"
   ]
  },
  {
   "cell_type": "markdown",
   "metadata": {},
   "source": [
    "### 3.9 Duplicates in list\n",
    "Напишите программу, которая принимает на вход список целых чисел и выводит на экран значения, которые повторяются в нём более одного раза.\n",
    "\n",
    "Для решения задачи может пригодиться метод sort списка.\n",
    "\n",
    "Формат ввода:\n",
    "Одна строка с целыми числами, разделёнными пробелом.\n",
    "\n",
    "Формат вывода:\n",
    "Строка, содержащая числа, разделённые пробелом. Числа не должны повторяться, порядок вывода может быть произвольным.\n",
    "\n",
    "Попробуйте решить эту задачу следующими способами:\n",
    "- Отсортировать список и найти дубликаты.\n",
    "- Использовать класс collections.Counter.\n",
    "- Использовать множества."
   ]
  },
  {
   "cell_type": "code",
   "execution_count": 138,
   "metadata": {
    "collapsed": false
   },
   "outputs": [
    {
     "name": "stdout",
     "output_type": "stream",
     "text": [
      "3 0 4\n",
      "0 4 3\n"
     ]
    }
   ],
   "source": [
    "#line =input()\n",
    "line = '4 8 0 3 4 2 0 3'\n",
    "\n",
    "#Отсортировать список и найти дубликаты.\n",
    "prev, ans = None, set()\n",
    "for el in sorted(line.split()):\n",
    "    if el == prev:\n",
    "        ans.add(el)\n",
    "    prev = el\n",
    "print(' '.join([s for s in ans]))\n",
    "\n",
    "#Использовать класс collections.Counter.\n",
    "from collections import Counter\n",
    "\n",
    "cnt = Counter(line.split())\n",
    "print(' '.join([el for el,num in cnt.items() if num>1]))"
   ]
  },
  {
   "cell_type": "markdown",
   "metadata": {
    "collapsed": false
   },
   "source": [
    "### 4.1 Base RLE encode\n",
    "\n",
    "Кодирование длин серий — это базовый алгоритм сжатия данных.\n",
    "\n",
    "В этой задаче мы реализуем одну из самых простых его вариантов.\n",
    "\n",
    "На вход алгоритму подаётся строка, содержащая символы латинского алфавита. Эта строка разбивается на группы одинаковых символов, идущих подряд (\"серии\"). Каждая серия характеризуется повторяющимся символом и количеством повторений. Именно эта информация и записывается в код: сначала пишется длина серии повторяющихся символов, затем сам символ. У серий длиной в один символ количество повторений будем опускать.\n",
    "\n",
    "Например, рассмотрим строку: <b>aaabccccCCaB</b>. Разобъём её на серии <b>aaa b cccc CC a B</b>.\n",
    "После чего закодируем серии и получим итоговую строку, которую и будем считать результатом работы алгоритма: <b>3ab4c2CaB</b>\n",
    "\n",
    "<b>Формат ввода:</b>\n",
    "Одна строка, содержащая произвольные символы латинского алфавита.\n",
    "\n",
    "<b>Формат вывода:</b>\n",
    "Строка, содержащая закодированную последовательность."
   ]
  },
  {
   "cell_type": "markdown",
   "metadata": {
    "collapsed": true
   },
   "source": [
    "Улучшения:\n",
    "\n",
    "1. Вынесите часть решения, отвечающую за определение серий и их длин в отдельную функцию, которая принимает строку на вход, а возвращает список пар (длина серии, символ):\n",
    "\n",
    "def split_encode_series(string):\n",
    "    ...\n",
    "\n",
    "print(split_encode_series('aabbbB'))   # [(2, 'a'), (3, 'b'), (1, 'B')]\n",
    "print(split_encode_series('a'))        # [(1, 'a')]\n",
    "2. Реализуйте эту функцию в виде генератора, чтобы избавиться от создания лишнего списка:\n",
    "\n",
    "print(split_encode_series('aabbbB'))  # <generator object split_encode_series at 0xXX...>\n",
    "print(list(split_encode_series('aabbbB')))  # [(2, 'a'), (3, 'b'), (1, 'B')]\n",
    "print(list(split_encode_series('a')))       # [(1, 'a')]\n",
    "3. Вынесите часть решения, отвечающую за получение закодированной строки в отдельную функцию, которая принимает на вход последовательность серий, а возвращает закодированную строку:\n",
    "\n",
    "def encode_series(series):\n",
    "    ...\n",
    "\n",
    "\n",
    "series = split_encode_series('aabbbB')\n",
    "print(encode_series(series))            # 2a3bB\n",
    "4. Создайте функцию, которая принимает на вход строку и, используя определённые выше функции, возвращает исходную строку закодированную длинами серий.\n",
    "\n",
    "def rle_encode(string):\n",
    "    ...\n",
    "\n",
    "print(rle_encode('aabbbB'))  # 2a3bB\n"
   ]
  },
  {
   "cell_type": "code",
   "execution_count": 50,
   "metadata": {
    "collapsed": false
   },
   "outputs": [
    {
     "data": {
      "text/plain": [
       "'3ab4c2CaB'"
      ]
     },
     "execution_count": 50,
     "metadata": {},
     "output_type": "execute_result"
    }
   ],
   "source": [
    "from itertools import groupby\n",
    "def split_encode_series(line):\n",
    "    return ((len(list(g)),k) for k,g in groupby(line))\n",
    "def encode_series(series):\n",
    "    res = ''\n",
    "    for i,s in list(series):\n",
    "        res += s if i == 1 else str(i)+s\n",
    "    return res\n",
    "def rle_encode(string):\n",
    "    return encode_series(split_encode_series(string))\n",
    "    \n",
    "rle_encode('aaabccccCCaB')"
   ]
  },
  {
   "cell_type": "markdown",
   "metadata": {
    "collapsed": true
   },
   "source": [
    "### 4.2 Base RLE decode\n",
    "Кодирование длин серий — это базовый алгоритм сжатия данных.\n",
    "\n",
    "В этой задаче мы реализуем алгоритм дешифровки строк, закодированных с помощью одного из самых простых  вариантов кодирования длин серий.\n",
    "\n",
    "На вход алгоритму подаётся строка, содержащая цифры и символы латинского алфавита. Эта строка разбивается на так называемые \"серии\", которые кодируются парой число-символ или просто символ (в таком случае число считается равным единице). Результат должен содержать эти серии в том же порядке, что они и встречаются в исходной строке, при этом каждая серия раскрывается в последовательность символов соответствующей длины. \n",
    "\n",
    "Например, рассмотрим строку \n",
    "<b>3ab4c2CaB</b>\n",
    "\n",
    "Разобъём её на серии\n",
    "<b>3a b 4c 2C a B</b>\n",
    "\n",
    "После чего преобразуем серии и получим исходную закодированную строку:\n",
    "<b>aaabccccCCaB</b>\n",
    "\n",
    "<b>Формат ввода:</b>\n",
    "Одна строка, содержащая закодированную последовательность.\n",
    "\n",
    "<b>Формат вывода:</b>\n",
    "Строка, содержащая раскодированную последовательность."
   ]
  },
  {
   "cell_type": "code",
   "execution_count": 45,
   "metadata": {
    "collapsed": false
   },
   "outputs": [
    {
     "name": "stdout",
     "output_type": "stream",
     "text": [
      "aaaaaaaaaaaaaaaaaaaaaaaaaaaaaaaaabccccCCaB\n"
     ]
    }
   ],
   "source": [
    "#ex.4.2\n",
    "import numbers\n",
    "#line = input()\n",
    "line = '33ab4c2CaB'\n",
    "res, num, prev_num ='', 1, 0\n",
    "for s in line:\n",
    "    if s.isnumeric():\n",
    "        if prev_num:\n",
    "            num = num*10 + int(s)\n",
    "        else:\n",
    "            num = int(s)\n",
    "            prev_num = 1\n",
    "    else:\n",
    "        res = res + s*num\n",
    "        num, prev_num = 1, 0\n",
    "\n",
    "print(res)"
   ]
  },
  {
   "cell_type": "markdown",
   "metadata": {},
   "source": [
    "Улучшения:\n",
    "\n",
    "- 1. Вынесите часть решения, отвечающую за определение закодированных серий в отдельную функцию, которая принимает строку на вход, а возвращает последовательность пар (длина серии, символ)\n",
    "\n",
    "def split_decode_series(string):\n",
    "...\n",
    "\n",
    "print(split_decode_series('2a3bB'))   # [(2, 'a'), (3, 'b'), (1, 'B')]\n",
    "print(split_decode_series('a'))       # [(1, 'a')]\n",
    "- 2. Реализуйте эту функцию в виде генератора, чтобы избавиться от создания лишнего списка:\n",
    "\n",
    "print(split_decode_series('2a3bB'))   # generator object split_decode_series at 0xXX...\n",
    "print(list(split_decode_series('2a3bB')))  # [(2, 'a'), (3, 'b'), (1, 'B')]\n",
    "print(list(split_decode_series('a')))      # [(1, 'a')]\n",
    "\n",
    "- 3. Вынесите часть решения, отвечающую за получение закодированной строки в отдельную функцию, которая принимает на вход последовательность серий, а возвращает закодированную строку:\n",
    "\n",
    "def decode_series(series):\n",
    "...\n",
    "\n",
    "series = split_decode_series('2a3bB')\n",
    "print(decode_series(series))           # aabbbB\n",
    "- 4. Создайте функцию, которая принимает на вход строку и, используя определённые выше функции, возвращает исходную строку закодированную длинами серий.\n",
    "\n",
    "def rle_decode(string):\n",
    "    ...\n",
    "\n",
    "print(rle_decode('2a3bB'))  # aabbbB"
   ]
  },
  {
   "cell_type": "code",
   "execution_count": 50,
   "metadata": {
    "collapsed": false
   },
   "outputs": [],
   "source": [
    "def split_decode_series(line):\n",
    "    num, prev_num = 1, 0\n",
    "    for s in line:\n",
    "        if s.isnumeric():\n",
    "            if prev_num:\n",
    "                num = num*10 + int(s)\n",
    "            else:\n",
    "                num = int(s)\n",
    "                prev_num = 1\n",
    "        else:\n",
    "            yield (num, s)\n",
    "            num, prev_num = 1, 0\n",
    "            \n",
    "def decode_series(series):\n",
    "    res = ''\n",
    "    for ser in series:\n",
    "        res = res + ser[1]*ser[0]\n",
    "    return res\n",
    "\n",
    "def rle_decode(string):\n",
    "    return decode_series(split_decode_series(string))"
   ]
  },
  {
   "cell_type": "code",
   "execution_count": 61,
   "metadata": {
    "collapsed": false
   },
   "outputs": [
    {
     "name": "stdout",
     "output_type": "stream",
     "text": [
      "aaaaaaaaaaaaaaaaaaaaaaaaaaaaaaaaabccccCCaB\n"
     ]
    }
   ],
   "source": [
    "print(rle_decode('33ab4c2CaB'))"
   ]
  },
  {
   "cell_type": "markdown",
   "metadata": {},
   "source": [
    "### 4.3 Caesar cipher\n",
    "\n",
    "Шифр Цезаря заключается в замене каждого символа входной строки на символ, находящийся на несколько позиций левее или правее его в алфавите.\n",
    "\n",
    "Для всех символов сдвиг один и тот же. Сдвиг циклический, т.е. если к последнему символу алфавита применить единичный сдвиг, то он заменится на первый символ, и наоборот.\n",
    "\n",
    "Напишите программу, которая шифрует текст шифром Цезаря.\n",
    "\n",
    "Используемый алфавит −− пробел и малые символы латинского алфавита: 'abcdefghijklmnopqrstuvwxyz'\n",
    "\n",
    "<b>Формат ввода:</b>\n",
    "На первой строке указывается используемый сдвиг шифрования: целое число. Положительное число соответствует сдвигу вправо. На второй строке указывается непустая фраза для шифрования. Ведущие и завершающие пробелы не учитывать.\n",
    "\n",
    "<b>Формат вывода:</b>\n",
    "Единственная строка, в которой записана фраза: Result: \"...\" , где вместо многоточия внутри кавычек записана зашифрованная последовательность."
   ]
  },
  {
   "cell_type": "code",
   "execution_count": 71,
   "metadata": {
    "collapsed": false
   },
   "outputs": [
    {
     "name": "stdout",
     "output_type": "stream",
     "text": [
      "Result: \"bcnz \"\n"
     ]
    }
   ],
   "source": [
    "#num = int(input())\n",
    "#line = input()\n",
    "num, line = 1, ' abmyz'\n",
    "\n",
    "def encode_symbol(sym,shift):\n",
    "    abc = ' abcdefghijklmnopqrstuvwxyz'\n",
    "    shift = abc.index(sym) + shift\n",
    "    while abs(shift) >= len(abc):\n",
    "        shift += len(abc) if shift < 0 else (-1)*len(abc)\n",
    "    return abc[shift]\n",
    "\n",
    "try:\n",
    "    print('Result: \"{}\"'.format(''.join(encode_symbol(s,num) for s in line.strip())))\n",
    "except Exception as error:\n",
    "    raise Exception(num, line)\n"
   ]
  },
  {
   "cell_type": "markdown",
   "metadata": {},
   "source": [
    "### 4.4 Unicode Caesar cipher\n",
    "Суть задачи та же, что и Caesar cipher, с одним отличием: кодируются символы из интервала 1F600—1F64F таблицы символов Юникода. Используется кодировка UTF-8.\n",
    "\n",
    "Для всех символов сдвиг один и тот же. Сдвиг циклический, т.е. если к последнему символу алфавита применить единичный сдвиг, то он заменится на первый символ, и наоборот.\n",
    "\n",
    "Напишите программу, которая шифрует текст шифром Цезаря.\n",
    "\n",
    "<b>Формат ввода:</b>\n",
    "На первой строке указывается используемый сдвиг шифрования: целое число. Положительное число соответствует сдвигу вправо. На второй строке указывается непустая фраза для шифрования. \n",
    "\n",
    "Не обращайте внимания, если у вас отображаются прямоугольники вместо некоторых символов. Это значит, что ваш шрифт не содержит этих символов. Для решения задачи это не имеет никакого значения.\n",
    "\n",
    "<b>Формат вывода:</b>\n",
    "Единственная строка, в которой записана фраза: Result: \"...\" , где вместо многоточия внутри кавычек записана зашифрованная последовательность."
   ]
  },
  {
   "cell_type": "code",
   "execution_count": 101,
   "metadata": {
    "collapsed": false
   },
   "outputs": [
    {
     "name": "stdout",
     "output_type": "stream",
     "text": [
      "Result: \"😁😀😈\"\n"
     ]
    }
   ],
   "source": [
    "#num = int(input())\n",
    "#line = input()\n",
    "num, line = 1, u'😀🙏😇'\n",
    "\n",
    "def encode_symbol(sym,shift):\n",
    "    abc = [i for i in range(0x1F600,0x1F64F+1)]\n",
    "    shift = abc.index(ord(sym)) + shift\n",
    "    while abs(shift) >= len(abc):\n",
    "        shift += len(abc) if shift < 0 else (-1)*len(abc)\n",
    "    return chr(abc[shift])\n",
    "\n",
    "try:\n",
    "    print(u'Result: \"{}\"'.format(u''.join(encode_symbol(s,num) for s in line.strip())))\n",
    "except Exception as error:\n",
    "    raise Exception(num, line)"
   ]
  },
  {
   "cell_type": "code",
   "execution_count": 85,
   "metadata": {
    "collapsed": false
   },
   "outputs": [
    {
     "data": {
      "text/plain": [
       "('😀', '🙏')"
      ]
     },
     "execution_count": 85,
     "metadata": {},
     "output_type": "execute_result"
    }
   ],
   "source": []
  }
 ],
 "metadata": {
  "kernelspec": {
   "display_name": "Python 3",
   "language": "python",
   "name": "python3"
  },
  "language_info": {
   "codemirror_mode": {
    "name": "ipython",
    "version": 3
   },
   "file_extension": ".py",
   "mimetype": "text/x-python",
   "name": "python",
   "nbconvert_exporter": "python",
   "pygments_lexer": "ipython3",
   "version": "3.5.2"
  }
 },
 "nbformat": 4,
 "nbformat_minor": 0
}
