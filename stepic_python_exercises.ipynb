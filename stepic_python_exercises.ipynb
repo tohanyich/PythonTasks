{
 "cells": [
  {
   "cell_type": "code",
   "execution_count": 1,
   "metadata": {
    "collapsed": false
   },
   "outputs": [],
   "source": [
    "#import sys\n",
    "#for line in sys.stdin:"
   ]
  },
  {
   "cell_type": "code",
   "execution_count": 3,
   "metadata": {
    "collapsed": false
   },
   "outputs": [
    {
     "data": {
      "text/plain": [
       "False"
      ]
     },
     "execution_count": 3,
     "metadata": {},
     "output_type": "execute_result"
    }
   ],
   "source": [
    "#ex.1\n",
    "line = 5\n",
    "i = line\n",
    "\n",
    "i == -10 or (i > -5 and i <= 3) or (i > 8 and i < 12) or i >=16"
   ]
  },
  {
   "cell_type": "code",
   "execution_count": 5,
   "metadata": {
    "collapsed": false
   },
   "outputs": [
    {
     "name": "stdout",
     "output_type": "stream",
     "text": [
      "Processing \"Turn left\" command...\n",
      "Processing \"Move forward\" command...\n",
      "Processing \"Turn left\" command...\n",
      "Processing \"Move forward\" command...\n",
      "Processing \"Turn left\" command...\n",
      "Processing \"Move forward\" command...\n",
      "Processing \"Turn left\" command...\n",
      "Processing \"Move forward\" command...\n",
      "Good bye!\n"
     ]
    }
   ],
   "source": [
    "#ex.2\n",
    "text = '''Turn left\n",
    "Move forward\n",
    "Turn left\n",
    "Move forward\n",
    "Turn left\n",
    "Move forward\n",
    "Turn left\n",
    "Move forward\n",
    "End'''\n",
    "\n",
    "for cmd in text.split('\\n'):\n",
    "    if cmd == 'End':\n",
    "        print('Good bye!')\n",
    "        break\n",
    "    else:\n",
    "        print('Processing \"{}\" command...'.format(cmd))"
   ]
  },
  {
   "cell_type": "code",
   "execution_count": 28,
   "metadata": {
    "collapsed": false
   },
   "outputs": [
    {
     "name": "stdout",
     "output_type": "stream",
     "text": [
      "0 4 8\n"
     ]
    }
   ],
   "source": [
    "#ex.3\n",
    "import re\n",
    "line1 = 'abacabadaba'\n",
    "line2 = 'aba'\n",
    "\n",
    "# (?=aa) - для поиска всех совпадений\n",
    "#line1, line2 = input(), input()\n",
    "answers = [m.start() for m in re.finditer('(?=' + line2 + ')', line1)]\n",
    "print(-1 if len(answers) == 0 else ' '.join([str(num) for num in answers]))"
   ]
  },
  {
   "cell_type": "code",
   "execution_count": 45,
   "metadata": {
    "collapsed": false
   },
   "outputs": [
    {
     "name": "stdout",
     "output_type": "stream",
     "text": [
      "aaaaaaaaaaaaaaaaaaaaaaaaaaaaaaaaabccccCCaB\n"
     ]
    }
   ],
   "source": [
    "#ex.4.2\n",
    "import numbers\n",
    "#line = input()\n",
    "line = '33ab4c2CaB'\n",
    "res, num, prev_num ='', 1, 0\n",
    "for s in line:\n",
    "    if s.isnumeric():\n",
    "        if prev_num:\n",
    "            num = num*10 + int(s)\n",
    "        else:\n",
    "            num = int(s)\n",
    "            prev_num = 1\n",
    "    else:\n",
    "        res = res + s*num\n",
    "        num, prev_num = 1, 0\n",
    "\n",
    "print(res)"
   ]
  },
  {
   "cell_type": "markdown",
   "metadata": {},
   "source": [
    "Улучшения:\n",
    "\n",
    "- 1. Вынесите часть решения, отвечающую за определение закодированных серий в отдельную функцию, которая принимает строку на вход, а возвращает последовательность пар (длина серии, символ)\n",
    "\n",
    "def split_decode_series(string):\n",
    "...\n",
    "\n",
    "print(split_decode_series('2a3bB'))   # [(2, 'a'), (3, 'b'), (1, 'B')]\n",
    "print(split_decode_series('a'))       # [(1, 'a')]\n",
    "- 2. Реализуйте эту функцию в виде генератора, чтобы избавиться от создания лишнего списка:\n",
    "\n",
    "print(split_decode_series('2a3bB'))   # generator object split_decode_series at 0xXX...\n",
    "print(list(split_decode_series('2a3bB')))  # [(2, 'a'), (3, 'b'), (1, 'B')]\n",
    "print(list(split_decode_series('a')))      # [(1, 'a')]\n",
    "\n",
    "- 3. Вынесите часть решения, отвечающую за получение закодированной строки в отдельную функцию, которая принимает на вход последовательность серий, а возвращает закодированную строку:\n",
    "\n",
    "def decode_series(series):\n",
    "...\n",
    "\n",
    "series = split_decode_series('2a3bB')\n",
    "print(decode_series(series))           # aabbbB\n",
    "- 4. Создайте функцию, которая принимает на вход строку и, используя определённые выше функции, возвращает исходную строку закодированную длинами серий.\n",
    "\n",
    "def rle_decode(string):\n",
    "    ...\n",
    "\n",
    "print(rle_decode('2a3bB'))  # aabbbB"
   ]
  },
  {
   "cell_type": "code",
   "execution_count": 50,
   "metadata": {
    "collapsed": false
   },
   "outputs": [],
   "source": [
    "def split_decode_series(line):\n",
    "    num, prev_num = 1, 0\n",
    "    for s in line:\n",
    "        if s.isnumeric():\n",
    "            if prev_num:\n",
    "                num = num*10 + int(s)\n",
    "            else:\n",
    "                num = int(s)\n",
    "                prev_num = 1\n",
    "        else:\n",
    "            yield (num, s)\n",
    "            num, prev_num = 1, 0\n",
    "            \n",
    "def decode_series(series):\n",
    "    res = ''\n",
    "    for ser in series:\n",
    "        res = res + ser[1]*ser[0]\n",
    "    return res\n",
    "\n",
    "def rle_decode(string):\n",
    "    return decode_series(split_decode_series(string))"
   ]
  },
  {
   "cell_type": "code",
   "execution_count": 61,
   "metadata": {
    "collapsed": false
   },
   "outputs": [
    {
     "name": "stdout",
     "output_type": "stream",
     "text": [
      "aaaaaaaaaaaaaaaaaaaaaaaaaaaaaaaaabccccCCaB\n"
     ]
    }
   ],
   "source": [
    "print(rle_decode('33ab4c2CaB'))"
   ]
  },
  {
   "cell_type": "code",
   "execution_count": 54,
   "metadata": {
    "collapsed": true
   },
   "outputs": [],
   "source": []
  },
  {
   "cell_type": "code",
   "execution_count": 58,
   "metadata": {
    "collapsed": false
   },
   "outputs": [],
   "source": []
  },
  {
   "cell_type": "code",
   "execution_count": 5,
   "metadata": {
    "collapsed": false
   },
   "outputs": [
    {
     "name": "stdout",
     "output_type": "stream",
     "text": [
      "string_with_multi_spaces\n"
     ]
    }
   ],
   "source": [
    "#ex 1.6\n",
    "\n",
    "#line = input()\n",
    "line = 'string     with        multi spaces'\n",
    "print('_'.join([word for word in line.split()]))"
   ]
  },
  {
   "cell_type": "code",
   "execution_count": 7,
   "metadata": {
    "collapsed": false
   },
   "outputs": [
    {
     "name": "stdout",
     "output_type": "stream",
     "text": [
      "MyFirstClass\n"
     ]
    }
   ],
   "source": [
    "#ex 1.7\n",
    "\n",
    "#line = input()\n",
    "line = 'my_first_class'\n",
    "print(''.join([word.capitalize() for word in line.split('_')]))"
   ]
  },
  {
   "cell_type": "code",
   "execution_count": 38,
   "metadata": {
    "collapsed": false
   },
   "outputs": [],
   "source": [
    "# ex 3.3\n",
    "def modify_list(l):\n",
    "    #i = 0\n",
    "    #for j in range(len(l)):\n",
    "    #    if l[i]%2:\n",
    "    #        l.pop(i)\n",
    "    #    else:\n",
    "    #        l[i] = int(l[i]/2)\n",
    "    #        i += 1\n",
    "    #the same \n",
    "    l[:] = [int(x/2) for x in l if x%2==0]"
   ]
  },
  {
   "cell_type": "code",
   "execution_count": 5,
   "metadata": {
    "collapsed": false
   },
   "outputs": [
    {
     "name": "stdout",
     "output_type": "stream",
     "text": [
      "a 2\n",
      "bcd 1\n",
      "ac 1\n",
      "abc 2\n",
      "aa 2\n"
     ]
    }
   ],
   "source": [
    "# ex 3.4\n",
    "from collections import Counter\n",
    "\n",
    "#line = input()\n",
    "line = 'a aa abC aa ac abc bcd a'\n",
    "cnt = Counter()\n",
    "for word in line.lower().split():\n",
    "    cnt[word] += 1\n",
    "for k,v in cnt.items():\n",
    "    print('{} {}'.format(k,v))"
   ]
  },
  {
   "cell_type": "code",
   "execution_count": 14,
   "metadata": {
    "collapsed": false
   },
   "outputs": [
    {
     "name": "stdout",
     "output_type": "stream",
     "text": [
      "!calc\n",
      "500\n",
      "500\n",
      "!calc\n",
      "1200\n",
      "!calc\n",
      "900\n",
      "!calc\n",
      "2000\n",
      "1200\n"
     ]
    }
   ],
   "source": [
    "# ex 3.5\n",
    "#line = input()\n",
    "#import sys\n",
    "#for line in sys.stdin:\n",
    "line = '''5\n",
    "5\n",
    "12\n",
    "9\n",
    "20\n",
    "12'''\n",
    "\n",
    "def f(x):\n",
    "    print('!calc')\n",
    "    return x * 100\n",
    "    \n",
    "d = dict()\n",
    "for l in line.split('\\n'):\n",
    "    val = d.get(l)\n",
    "    if not val:\n",
    "        val = f(int(l))\n",
    "        d[l] = val\n",
    "    print(val"
   ]
  },
  {
   "cell_type": "code",
   "execution_count": null,
   "metadata": {
    "collapsed": true
   },
   "outputs": [],
   "source": [
    "from functools import lru_cache()\n",
    "\n",
    "@lru_cache()\n",
    "def f(x):\n",
    "    print('!calc')\n",
    "    return x * 100\n",
    "\n",
    "for l in line.split('\\n'):\n",
    "    val = f(int(l))\n",
    "    print(val)"
   ]
  },
  {
   "cell_type": "code",
   "execution_count": 42,
   "metadata": {
    "collapsed": false
   },
   "outputs": [
    {
     "name": "stdout",
     "output_type": "stream",
     "text": [
      "1 2 2 3 3 3 4\n"
     ]
    }
   ],
   "source": [
    "# ex 3.6\n",
    "\n",
    "#num = int(input())\n",
    "num = 7 \n",
    "\n",
    "#el, l = [], 0\n",
    "#for n in range(1,num+1):\n",
    "#    if l >= num:\n",
    "#        break;    \n",
    "#    l += n\n",
    "#    el.append(list(str(n)*n))\n",
    "#print(' '.join([s for s in sum(el,[])[:num]]))\n",
    "\n",
    "print(' '.join([s for s in list(str(i) for i in range(1, num+1) for k in range(i))[:num]]))"
   ]
  },
  {
   "cell_type": "markdown",
   "metadata": {},
   "source": [
    "### 3.7 Multiple list index search\n",
    "Попробуйте решить эту задачу следующими способами:\n",
    "\n",
    "- Получить ответ, не сохраняя значения в коллекции.\n",
    "- Получить ответ, сохранив значения в списке, после чего осуществить поиск вхождений в списке с использованием метода index и обработкой исключения."
   ]
  },
  {
   "cell_type": "code",
   "execution_count": 63,
   "metadata": {
    "collapsed": false
   },
   "outputs": [
    {
     "name": "stdout",
     "output_type": "stream",
     "text": [
      "['5', '8', '2', '7', '8', '8', '2', '4']\n",
      "1 4 5\n"
     ]
    }
   ],
   "source": [
    "#line = input()\n",
    "#num = input()\n",
    "line = '5 8 2 7 8 8 2 4'\n",
    "num = '8'\n",
    "\n",
    "l = line.split()\n",
    "print(l)\n",
    "ans = [ind for ind, element in enumerate(l) if element == num]\n",
    "if ans:\n",
    "    print(' '.join([str(s) for s in ans]))\n",
    "else:\n",
    "    print('None')"
   ]
  },
  {
   "cell_type": "markdown",
   "metadata": {},
   "source": [
    "#### 3.8 Spiral matrix\n",
    "\n",
    "Выведите таблицу размером n×n, заполненную целыми числами от 1 до n^2 по спирали, выходящей из левого верхнего угла и закрученной по часовой стрелке, как показано в примере.\n",
    "\n",
    "Формат ввода:\n",
    "Одна строка, содержащая одно целое число n, n>0.\n",
    "\n",
    "Формат вывода:\n",
    "Таблица из n строк, значения в строках разделены пробелом."
   ]
  },
  {
   "cell_type": "code",
   "execution_count": 126,
   "metadata": {
    "collapsed": false
   },
   "outputs": [
    {
     "name": "stdout",
     "output_type": "stream",
     "text": [
      "1 2 3 4 5\n",
      "16 17 18 19 6\n",
      "15 24 25 20 7\n",
      "14 23 22 21 8\n",
      "13 12 11 10 9\n"
     ]
    }
   ],
   "source": [
    "import numpy as np\n",
    "\n",
    "def init_fs(sp_matrix,ind, size):\n",
    "    first_el = sp_matrix.max()+1\n",
    "    sp_matrix[ind,ind:size] = [first_el+i for i in range(len(sp_matrix[ind,ind:size]))]\n",
    "    \n",
    "def init_lc(sp_matrix,ind, size):\n",
    "    first_el = sp_matrix.max()\n",
    "    sp_matrix[ind:size,size-1] = [first_el+i for i in range(len(sp_matrix[ind,ind:size]))]\n",
    "    \n",
    "def init_ls(sp_matrix,ind, size):\n",
    "    first_el = sp_matrix.max()\n",
    "    sp_matrix[size-1,ind:size] = sorted([first_el+i for i in range(len(sp_matrix[ind,ind:size]))],reverse = True)\n",
    "    \n",
    "def init_fc(sp_matrix,ind, size):\n",
    "    first_el = sp_matrix.max()\n",
    "    sp_matrix[ind+1:size,ind] = sorted([first_el+i for i in range(len(sp_matrix[ind,ind:size])-1)],reverse = True)\n",
    "\n",
    "#num = int(input())\n",
    "num = 5\n",
    "sp_matrix = np.zeros((num,num), dtype=np.int)\n",
    "ind, size = 0, num\n",
    "\n",
    "while ind < num/2.:\n",
    "    init_fs(sp_matrix,ind, size)\n",
    "    init_lc(sp_matrix,ind, size)\n",
    "    init_ls(sp_matrix,ind, size)\n",
    "    init_fc(sp_matrix,ind, size)\n",
    "    ind += 1\n",
    "    size -= 1\n",
    "\n",
    "for l in sp_matrix:\n",
    "    print(' '.join([str(s) for s in l]))"
   ]
  },
  {
   "cell_type": "markdown",
   "metadata": {},
   "source": [
    "#### 3.9 Duplicates in list\n",
    "Напишите программу, которая принимает на вход список целых чисел и выводит на экран значения, которые повторяются в нём более одного раза.\n",
    "\n",
    "Для решения задачи может пригодиться метод sort списка.\n",
    "\n",
    "Формат ввода:\n",
    "Одна строка с целыми числами, разделёнными пробелом.\n",
    "\n",
    "Формат вывода:\n",
    "Строка, содержащая числа, разделённые пробелом. Числа не должны повторяться, порядок вывода может быть произвольным.\n",
    "\n",
    "Попробуйте решить эту задачу следующими способами:\n",
    "- Отсортировать список и найти дубликаты.\n",
    "- Использовать класс collections.Counter.\n",
    "- Использовать множества."
   ]
  },
  {
   "cell_type": "code",
   "execution_count": 138,
   "metadata": {
    "collapsed": false
   },
   "outputs": [
    {
     "name": "stdout",
     "output_type": "stream",
     "text": [
      "3 0 4\n",
      "0 4 3\n"
     ]
    }
   ],
   "source": [
    "#line =input()\n",
    "line = '4 8 0 3 4 2 0 3'\n",
    "\n",
    "#Отсортировать список и найти дубликаты.\n",
    "prev, ans = None, set()\n",
    "for el in sorted(line.split()):\n",
    "    if el == prev:\n",
    "        ans.add(el)\n",
    "    prev = el\n",
    "print(' '.join([s for s in ans]))\n",
    "\n",
    "#Использовать класс collections.Counter.\n",
    "from collections import Counter\n",
    "\n",
    "cnt = Counter(line.split())\n",
    "print(' '.join([el for el,num in cnt.items() if num>1]))"
   ]
  },
  {
   "cell_type": "code",
   "execution_count": 136,
   "metadata": {
    "collapsed": false
   },
   "outputs": [
    {
     "name": "stdout",
     "output_type": "stream",
     "text": [
      "0 4 3\n"
     ]
    }
   ],
   "source": []
  },
  {
   "cell_type": "code",
   "execution_count": null,
   "metadata": {
    "collapsed": true
   },
   "outputs": [],
   "source": []
  }
 ],
 "metadata": {
  "kernelspec": {
   "display_name": "Python 3",
   "language": "python",
   "name": "python3"
  },
  "language_info": {
   "codemirror_mode": {
    "name": "ipython",
    "version": 3
   },
   "file_extension": ".py",
   "mimetype": "text/x-python",
   "name": "python",
   "nbconvert_exporter": "python",
   "pygments_lexer": "ipython3",
   "version": "3.5.2"
  }
 },
 "nbformat": 4,
 "nbformat_minor": 0
}
